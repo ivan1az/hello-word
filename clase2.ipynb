{
 "cells": [
  {
   "cell_type": "code",
   "execution_count": 1,
   "metadata": {},
   "outputs": [
    {
     "name": "stdout",
     "output_type": "stream",
     "text": [
      "1\n",
      "2\n",
      "3\n",
      "4\n",
      "6\n",
      "7\n",
      "8\n",
      "9\n",
      "10\n",
      "11\n",
      "12\n",
      "13\n",
      "14\n",
      "15\n",
      "16\n",
      "17\n",
      "18\n",
      "19\n",
      "20\n",
      "21\n",
      "22\n",
      "23\n",
      "24\n",
      "26\n",
      "27\n",
      "28\n",
      "29\n",
      "30\n",
      "31\n",
      "32\n",
      "33\n",
      "34\n",
      "35\n",
      "36\n",
      "37\n",
      "38\n",
      "39\n",
      "40\n",
      "41\n",
      "42\n",
      "43\n",
      "44\n",
      "45\n",
      "46\n",
      "47\n",
      "48\n",
      "49\n",
      "50\n"
     ]
    }
   ],
   "source": [
    "def imprimir_numeros():\n",
    "    contador = 1\n",
    "    while contador <=50:\n",
    "        \n",
    "        if contador  == 5 or contador == 25:\n",
    "            contador += 1\n",
    "            continue\n",
    "        print(contador)\n",
    "        \n",
    "        contador += 1\n",
    "imprimir_numeros()\n",
    "\n",
    "        "
   ]
  },
  {
   "cell_type": "code",
   "execution_count": 5,
   "metadata": {},
   "outputs": [
    {
     "name": "stdout",
     "output_type": "stream",
     "text": [
      "La cantidad de pares es 25 y la suma de los pares es 650\n",
      "La cantidad de impares es 50 y la suma de los impares es 1250\n"
     ]
    }
   ],
   "source": [
    "def contar_sumar():\n",
    "    contador_pares = 0\n",
    "    contador_impares = 0\n",
    "    suma_pares = 0\n",
    "    suma_impares = 0\n",
    "    \n",
    "    for numero  in range (1,51):\n",
    "        if numero % 2 == 0:\n",
    "            contador_pares += 1\n",
    "            suma_pares += numero\n",
    "            continue \n",
    "        else:\n",
    "            contador_impares += 1\n",
    "            suma_impares += numero\n",
    "    print(f'La cantidad de pares es {contador_pares} y la suma de los pares es {suma_pares}')\n",
    "    \n",
    "    for numero in range(1,51):\n",
    "        if numero % 2 != 0:\n",
    "            contador_impares += 1\n",
    "            suma_impares += numero\n",
    "            continue\n",
    "        else:\n",
    "            contador_pares += 1\n",
    "            suma_pares += numero\n",
    "    print(f'La cantidad de impares es {contador_impares} y la suma de los impares es {suma_impares}')\n",
    "contar_sumar()            "
   ]
  }
 ],
 "metadata": {
  "kernelspec": {
   "display_name": "Python 3",
   "language": "python",
   "name": "python3"
  },
  "language_info": {
   "codemirror_mode": {
    "name": "ipython",
    "version": 3
   },
   "file_extension": ".py",
   "mimetype": "text/x-python",
   "name": "python",
   "nbconvert_exporter": "python",
   "pygments_lexer": "ipython3",
   "version": "3.11.7"
  }
 },
 "nbformat": 4,
 "nbformat_minor": 2
}
